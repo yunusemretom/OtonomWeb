{
 "cells": [
  {
   "cell_type": "code",
   "execution_count": null,
   "metadata": {},
   "outputs": [
    {
     "data": {
      "text/plain": [
       "{'identifier': '2'}"
      ]
     },
     "execution_count": 4,
     "metadata": {},
     "output_type": "execute_result"
    }
   ],
   "source": [
    "\n",
    "from selenium import webdriver\n",
    "from selenium.webdriver.chrome.service import Service\n",
    "from selenium.webdriver.chrome.options import Options\n",
    "from webdriver_manager.chrome import ChromeDriverManager\n",
    "from selenium.webdriver.common.keys import Keys\n",
    "import time\n",
    "\n",
    "\n",
    "options = Options()\n",
    "options.add_argument(\"--disable-blink-features=AutomationControlled\")\n",
    "options.add_experimental_option(\"excludeSwitches\", [\"enable-automation\"])\n",
    "options.add_experimental_option('useAutomationExtension', False)\n",
    "options.add_experimental_option(\"excludeSwitches\", [\"enable-logging\"])\n",
    "options.add_argument(\"--profile-directory=Default\")\n",
    "options.add_argument(\"--user-data-dir=/var/tmp/chrome_user_data\")\n",
    "options.add_argument('--start-maximized')\n",
    "options.add_argument(\"--disable-background-timer-throttling\")\n",
    "options.add_argument(\"--disable-renderer-backgrounding\")\n",
    "\n",
    "driver = webdriver.Chrome(service=Service(ChromeDriverManager().install()), options=options)\n",
    "driver.execute_cdp_cmd('Page.addScriptToEvaluateOnNewDocument', {\n",
    "    'source': '''\n",
    "        Object.defineProperty(navigator, 'webdriver', {\n",
    "          get: () => undefined\n",
    "        });\n",
    "    '''\n",
    "})"
   ]
  },
  {
   "cell_type": "code",
   "execution_count": null,
   "id": "b982c475",
   "metadata": {},
   "outputs": [],
   "source": [
    "!pip install undetected-chromedriver"
   ]
  },
  {
   "cell_type": "code",
   "execution_count": null,
   "id": "f9d02435",
   "metadata": {},
   "outputs": [],
   "source": [
    "import undetected_chromedriver as uc\n",
    "from webdriver_manager.chrome import ChromeDriverManager\n",
    "from selenium import webdriver\n",
    "from selenium.webdriver.common.by import By\n",
    "from selenium.webdriver.common.action_chains import ActionChains\n",
    "from selenium.webdriver.support.ui import WebDriverWait\n",
    "from selenium.webdriver.support import expected_conditions as EC\n",
    "\n",
    "options = uc.ChromeOptions()\n",
    "\n",
    "options.add_argument(\"--user-data-dir=/var/tmp/chrome_user_data\")\n",
    "\n",
    "options.headless = False\n",
    "\n",
    "driver = uc.Chrome(options=options)\n",
    "wait = WebDriverWait(driver, 30)\n",
    "driver.get(\"https://visa.vfsglobal.com/tur/tr/fra/login\")\n"
   ]
  },
  {
   "cell_type": "code",
   "execution_count": null,
   "id": "afc7c2e9",
   "metadata": {},
   "outputs": [],
   "source": [
    "driver.find_element(\"id\", \"onetrust-reject-all-handler\").click()"
   ]
  },
  {
   "cell_type": "code",
   "execution_count": 36,
   "id": "cc498d32",
   "metadata": {},
   "outputs": [],
   "source": [
    "driver.find_element(\"id\", \"email\").send_keys(\"yunusemretom@gmail.com\")\n",
    "driver.find_element(\"id\", \"password\").send_keys(\"!$!gj2Ch94BDT7A\")"
   ]
  },
  {
   "cell_type": "code",
   "execution_count": null,
   "id": "1c23c887",
   "metadata": {},
   "outputs": [],
   "source": [
    "\n",
    "driver.find_element(\"input\", {\"type\": \"submit\"}).click()"
   ]
  },
  {
   "cell_type": "code",
   "execution_count": 11,
   "id": "9c4c8a23",
   "metadata": {},
   "outputs": [
    {
     "ename": "ElementNotInteractableException",
     "evalue": "Message: element not interactable\n  (Session info: chrome=137.0.7151.55)\nStacktrace:\n\tGetHandleVerifier [0x0x11ef173+62931]\n\tGetHandleVerifier [0x0x11ef1b4+62996]\n\t(No symbol) [0x0x1000ece]\n\t(No symbol) [0x0x104a95b]\n\t(No symbol) [0x0x103f365]\n\t(No symbol) [0x0x106e4ac]\n\t(No symbol) [0x0x103edf4]\n\t(No symbol) [0x0x106e724]\n\t(No symbol) [0x0x108f9e3]\n\t(No symbol) [0x0x106e2a6]\n\t(No symbol) [0x0x103d5f0]\n\t(No symbol) [0x0x103e464]\n\tGetHandleVerifier [0x0x1443463+2504899]\n\tGetHandleVerifier [0x0x143e892+2485490]\n\tGetHandleVerifier [0x0x121590a+220522]\n\tGetHandleVerifier [0x0x1206388+157672]\n\tGetHandleVerifier [0x0x120cb6d+184269]\n\tGetHandleVerifier [0x0x11f7158+95672]\n\tGetHandleVerifier [0x0x11f7300+96096]\n\tGetHandleVerifier [0x0x11e21aa+9738]\n\tBaseThreadInitThunk [0x0x75855d49+25]\n\tRtlInitializeExceptionChain [0x0x77bbd03b+107]\n\tRtlGetAppContainerNamedObjectPath [0x0x77bbcfc1+561]\n",
     "output_type": "error",
     "traceback": [
      "\u001b[1;31m---------------------------------------------------------------------------\u001b[0m",
      "\u001b[1;31mElementNotInteractableException\u001b[0m           Traceback (most recent call last)",
      "Cell \u001b[1;32mIn[11], line 1\u001b[0m\n\u001b[1;32m----> 1\u001b[0m \u001b[43mdriver\u001b[49m\u001b[38;5;241;43m.\u001b[39;49m\u001b[43mfind_element\u001b[49m\u001b[43m(\u001b[49m\u001b[38;5;124;43m\"\u001b[39;49m\u001b[38;5;124;43mclass name\u001b[39;49m\u001b[38;5;124;43m\"\u001b[39;49m\u001b[43m,\u001b[49m\u001b[43m \u001b[49m\u001b[38;5;124;43m\"\u001b[39;49m\u001b[38;5;124;43mmdc-button__label\u001b[39;49m\u001b[38;5;124;43m\"\u001b[39;49m\u001b[43m)\u001b[49m\u001b[38;5;241;43m.\u001b[39;49m\u001b[43mclick\u001b[49m\u001b[43m(\u001b[49m\u001b[43m)\u001b[49m\n",
      "File \u001b[1;32mc:\\Users\\TOM\\AppData\\Local\\Programs\\Python\\Python310\\lib\\site-packages\\selenium\\webdriver\\remote\\webelement.py:119\u001b[0m, in \u001b[0;36mWebElement.click\u001b[1;34m(self)\u001b[0m\n\u001b[0;32m    111\u001b[0m \u001b[38;5;28;01mdef\u001b[39;00m \u001b[38;5;21mclick\u001b[39m(\u001b[38;5;28mself\u001b[39m) \u001b[38;5;241m-\u001b[39m\u001b[38;5;241m>\u001b[39m \u001b[38;5;28;01mNone\u001b[39;00m:\n\u001b[0;32m    112\u001b[0m \u001b[38;5;250m    \u001b[39m\u001b[38;5;124;03m\"\"\"Clicks the element.\u001b[39;00m\n\u001b[0;32m    113\u001b[0m \n\u001b[0;32m    114\u001b[0m \u001b[38;5;124;03m    Example:\u001b[39;00m\n\u001b[1;32m   (...)\u001b[0m\n\u001b[0;32m    117\u001b[0m \u001b[38;5;124;03m    >>> element.click()\u001b[39;00m\n\u001b[0;32m    118\u001b[0m \u001b[38;5;124;03m    \"\"\"\u001b[39;00m\n\u001b[1;32m--> 119\u001b[0m     \u001b[38;5;28;43mself\u001b[39;49m\u001b[38;5;241;43m.\u001b[39;49m\u001b[43m_execute\u001b[49m\u001b[43m(\u001b[49m\u001b[43mCommand\u001b[49m\u001b[38;5;241;43m.\u001b[39;49m\u001b[43mCLICK_ELEMENT\u001b[49m\u001b[43m)\u001b[49m\n",
      "File \u001b[1;32mc:\\Users\\TOM\\AppData\\Local\\Programs\\Python\\Python310\\lib\\site-packages\\selenium\\webdriver\\remote\\webelement.py:572\u001b[0m, in \u001b[0;36mWebElement._execute\u001b[1;34m(self, command, params)\u001b[0m\n\u001b[0;32m    570\u001b[0m     params \u001b[38;5;241m=\u001b[39m {}\n\u001b[0;32m    571\u001b[0m params[\u001b[38;5;124m\"\u001b[39m\u001b[38;5;124mid\u001b[39m\u001b[38;5;124m\"\u001b[39m] \u001b[38;5;241m=\u001b[39m \u001b[38;5;28mself\u001b[39m\u001b[38;5;241m.\u001b[39m_id\n\u001b[1;32m--> 572\u001b[0m \u001b[38;5;28;01mreturn\u001b[39;00m \u001b[38;5;28;43mself\u001b[39;49m\u001b[38;5;241;43m.\u001b[39;49m\u001b[43m_parent\u001b[49m\u001b[38;5;241;43m.\u001b[39;49m\u001b[43mexecute\u001b[49m\u001b[43m(\u001b[49m\u001b[43mcommand\u001b[49m\u001b[43m,\u001b[49m\u001b[43m \u001b[49m\u001b[43mparams\u001b[49m\u001b[43m)\u001b[49m\n",
      "File \u001b[1;32mc:\\Users\\TOM\\AppData\\Local\\Programs\\Python\\Python310\\lib\\site-packages\\selenium\\webdriver\\remote\\webdriver.py:429\u001b[0m, in \u001b[0;36mWebDriver.execute\u001b[1;34m(self, driver_command, params)\u001b[0m\n\u001b[0;32m    427\u001b[0m response \u001b[38;5;241m=\u001b[39m \u001b[38;5;28mself\u001b[39m\u001b[38;5;241m.\u001b[39mcommand_executor\u001b[38;5;241m.\u001b[39mexecute(driver_command, params)\n\u001b[0;32m    428\u001b[0m \u001b[38;5;28;01mif\u001b[39;00m response:\n\u001b[1;32m--> 429\u001b[0m     \u001b[38;5;28;43mself\u001b[39;49m\u001b[38;5;241;43m.\u001b[39;49m\u001b[43merror_handler\u001b[49m\u001b[38;5;241;43m.\u001b[39;49m\u001b[43mcheck_response\u001b[49m\u001b[43m(\u001b[49m\u001b[43mresponse\u001b[49m\u001b[43m)\u001b[49m\n\u001b[0;32m    430\u001b[0m     response[\u001b[38;5;124m\"\u001b[39m\u001b[38;5;124mvalue\u001b[39m\u001b[38;5;124m\"\u001b[39m] \u001b[38;5;241m=\u001b[39m \u001b[38;5;28mself\u001b[39m\u001b[38;5;241m.\u001b[39m_unwrap_value(response\u001b[38;5;241m.\u001b[39mget(\u001b[38;5;124m\"\u001b[39m\u001b[38;5;124mvalue\u001b[39m\u001b[38;5;124m\"\u001b[39m, \u001b[38;5;28;01mNone\u001b[39;00m))\n\u001b[0;32m    431\u001b[0m     \u001b[38;5;28;01mreturn\u001b[39;00m response\n",
      "File \u001b[1;32mc:\\Users\\TOM\\AppData\\Local\\Programs\\Python\\Python310\\lib\\site-packages\\selenium\\webdriver\\remote\\errorhandler.py:232\u001b[0m, in \u001b[0;36mErrorHandler.check_response\u001b[1;34m(self, response)\u001b[0m\n\u001b[0;32m    230\u001b[0m         alert_text \u001b[38;5;241m=\u001b[39m value[\u001b[38;5;124m\"\u001b[39m\u001b[38;5;124malert\u001b[39m\u001b[38;5;124m\"\u001b[39m]\u001b[38;5;241m.\u001b[39mget(\u001b[38;5;124m\"\u001b[39m\u001b[38;5;124mtext\u001b[39m\u001b[38;5;124m\"\u001b[39m)\n\u001b[0;32m    231\u001b[0m     \u001b[38;5;28;01mraise\u001b[39;00m exception_class(message, screen, stacktrace, alert_text)  \u001b[38;5;66;03m# type: ignore[call-arg]  # mypy is not smart enough here\u001b[39;00m\n\u001b[1;32m--> 232\u001b[0m \u001b[38;5;28;01mraise\u001b[39;00m exception_class(message, screen, stacktrace)\n",
      "\u001b[1;31mElementNotInteractableException\u001b[0m: Message: element not interactable\n  (Session info: chrome=137.0.7151.55)\nStacktrace:\n\tGetHandleVerifier [0x0x11ef173+62931]\n\tGetHandleVerifier [0x0x11ef1b4+62996]\n\t(No symbol) [0x0x1000ece]\n\t(No symbol) [0x0x104a95b]\n\t(No symbol) [0x0x103f365]\n\t(No symbol) [0x0x106e4ac]\n\t(No symbol) [0x0x103edf4]\n\t(No symbol) [0x0x106e724]\n\t(No symbol) [0x0x108f9e3]\n\t(No symbol) [0x0x106e2a6]\n\t(No symbol) [0x0x103d5f0]\n\t(No symbol) [0x0x103e464]\n\tGetHandleVerifier [0x0x1443463+2504899]\n\tGetHandleVerifier [0x0x143e892+2485490]\n\tGetHandleVerifier [0x0x121590a+220522]\n\tGetHandleVerifier [0x0x1206388+157672]\n\tGetHandleVerifier [0x0x120cb6d+184269]\n\tGetHandleVerifier [0x0x11f7158+95672]\n\tGetHandleVerifier [0x0x11f7300+96096]\n\tGetHandleVerifier [0x0x11e21aa+9738]\n\tBaseThreadInitThunk [0x0x75855d49+25]\n\tRtlInitializeExceptionChain [0x0x77bbd03b+107]\n\tRtlGetAppContainerNamedObjectPath [0x0x77bbcfc1+561]\n"
     ]
    }
   ],
   "source": [
    "\n",
    "driver.find_element(\"class name\", \"mdc-button__label\").click()\n"
   ]
  },
  {
   "cell_type": "code",
   "execution_count": 1,
   "id": "b66fbc4e",
   "metadata": {},
   "outputs": [
    {
     "ename": "SessionNotCreatedException",
     "evalue": "Message: session not created: cannot connect to chrome at 127.0.0.1:61272\nfrom chrome not reachable\nStacktrace:\n\tGetHandleVerifier [0x0x11ef173+62931]\n\tGetHandleVerifier [0x0x11ef1b4+62996]\n\t(No symbol) [0x0x1000ece]\n\t(No symbol) [0x0xff4c3a]\n\t(No symbol) [0x0x1039be6]\n\t(No symbol) [0x0x103043f]\n\t(No symbol) [0x0x1030276]\n\t(No symbol) [0x0x107a37a]\n\t(No symbol) [0x0x1079c1a]\n\t(No symbol) [0x0x106e2a6]\n\t(No symbol) [0x0x103d5f0]\n\t(No symbol) [0x0x103e464]\n\tGetHandleVerifier [0x0x1443463+2504899]\n\tGetHandleVerifier [0x0x143e892+2485490]\n\tGetHandleVerifier [0x0x121590a+220522]\n\tGetHandleVerifier [0x0x1206388+157672]\n\tGetHandleVerifier [0x0x120cb6d+184269]\n\tGetHandleVerifier [0x0x11f7158+95672]\n\tGetHandleVerifier [0x0x11f7300+96096]\n\tGetHandleVerifier [0x0x11e21aa+9738]\n\tBaseThreadInitThunk [0x0x75855d49+25]\n\tRtlInitializeExceptionChain [0x0x77bbd03b+107]\n\tRtlGetAppContainerNamedObjectPath [0x0x77bbcfc1+561]\n",
     "output_type": "error",
     "traceback": [
      "\u001b[1;31m---------------------------------------------------------------------------\u001b[0m",
      "\u001b[1;31mSessionNotCreatedException\u001b[0m                Traceback (most recent call last)",
      "Cell \u001b[1;32mIn[1], line 15\u001b[0m\n\u001b[0;32m     12\u001b[0m options\u001b[38;5;241m.\u001b[39madd_argument(\u001b[38;5;124m\"\u001b[39m\u001b[38;5;124muser-data-dir=selenium\u001b[39m\u001b[38;5;124m\"\u001b[39m)\n\u001b[0;32m     13\u001b[0m options\u001b[38;5;241m.\u001b[39mheadless \u001b[38;5;241m=\u001b[39m \u001b[38;5;28;01mFalse\u001b[39;00m\n\u001b[1;32m---> 15\u001b[0m driver \u001b[38;5;241m=\u001b[39m \u001b[43muc\u001b[49m\u001b[38;5;241;43m.\u001b[39;49m\u001b[43mChrome\u001b[49m\u001b[43m(\u001b[49m\u001b[43moptions\u001b[49m\u001b[38;5;241;43m=\u001b[39;49m\u001b[43moptions\u001b[49m\u001b[43m)\u001b[49m\n\u001b[0;32m     17\u001b[0m wait \u001b[38;5;241m=\u001b[39m WebDriverWait(driver, \u001b[38;5;241m30\u001b[39m)\n\u001b[0;32m     18\u001b[0m driver\u001b[38;5;241m.\u001b[39mget(\u001b[38;5;124m\"\u001b[39m\u001b[38;5;124mhttps://visa.vfsglobal.com/tur/tr/fra/login\u001b[39m\u001b[38;5;124m\"\u001b[39m)\n",
      "File \u001b[1;32mc:\\Users\\TOM\\AppData\\Local\\Programs\\Python\\Python310\\lib\\site-packages\\undetected_chromedriver\\__init__.py:466\u001b[0m, in \u001b[0;36mChrome.__init__\u001b[1;34m(self, options, user_data_dir, driver_executable_path, browser_executable_path, port, enable_cdp_events, desired_capabilities, advanced_elements, keep_alive, log_level, headless, version_main, patcher_force_close, suppress_welcome, use_subprocess, debug, no_sandbox, user_multi_procs, **kw)\u001b[0m\n\u001b[0;32m    459\u001b[0m     \u001b[38;5;28mself\u001b[39m\u001b[38;5;241m.\u001b[39mbrowser_pid \u001b[38;5;241m=\u001b[39m browser\u001b[38;5;241m.\u001b[39mpid\n\u001b[0;32m    462\u001b[0m service \u001b[38;5;241m=\u001b[39m selenium\u001b[38;5;241m.\u001b[39mwebdriver\u001b[38;5;241m.\u001b[39mchromium\u001b[38;5;241m.\u001b[39mservice\u001b[38;5;241m.\u001b[39mChromiumService(\n\u001b[0;32m    463\u001b[0m     \u001b[38;5;28mself\u001b[39m\u001b[38;5;241m.\u001b[39mpatcher\u001b[38;5;241m.\u001b[39mexecutable_path\n\u001b[0;32m    464\u001b[0m )\n\u001b[1;32m--> 466\u001b[0m \u001b[38;5;28;43msuper\u001b[39;49m\u001b[43m(\u001b[49m\u001b[43mChrome\u001b[49m\u001b[43m,\u001b[49m\u001b[43m \u001b[49m\u001b[38;5;28;43mself\u001b[39;49m\u001b[43m)\u001b[49m\u001b[38;5;241;43m.\u001b[39;49m\u001b[38;5;21;43m__init__\u001b[39;49m\u001b[43m(\u001b[49m\n\u001b[0;32m    467\u001b[0m \u001b[43m    \u001b[49m\u001b[43mservice\u001b[49m\u001b[38;5;241;43m=\u001b[39;49m\u001b[43mservice\u001b[49m\u001b[43m,\u001b[49m\n\u001b[0;32m    468\u001b[0m \u001b[43m    \u001b[49m\u001b[43moptions\u001b[49m\u001b[38;5;241;43m=\u001b[39;49m\u001b[43moptions\u001b[49m\u001b[43m,\u001b[49m\n\u001b[0;32m    469\u001b[0m \u001b[43m    \u001b[49m\u001b[43mkeep_alive\u001b[49m\u001b[38;5;241;43m=\u001b[39;49m\u001b[43mkeep_alive\u001b[49m\u001b[43m,\u001b[49m\n\u001b[0;32m    470\u001b[0m \u001b[43m\u001b[49m\u001b[43m)\u001b[49m\n\u001b[0;32m    472\u001b[0m \u001b[38;5;28mself\u001b[39m\u001b[38;5;241m.\u001b[39mreactor \u001b[38;5;241m=\u001b[39m \u001b[38;5;28;01mNone\u001b[39;00m\n\u001b[0;32m    474\u001b[0m \u001b[38;5;28;01mif\u001b[39;00m enable_cdp_events:\n",
      "File \u001b[1;32mc:\\Users\\TOM\\AppData\\Local\\Programs\\Python\\Python310\\lib\\site-packages\\selenium\\webdriver\\chrome\\webdriver.py:45\u001b[0m, in \u001b[0;36mWebDriver.__init__\u001b[1;34m(self, options, service, keep_alive)\u001b[0m\n\u001b[0;32m     42\u001b[0m service \u001b[38;5;241m=\u001b[39m service \u001b[38;5;28;01mif\u001b[39;00m service \u001b[38;5;28;01melse\u001b[39;00m Service()\n\u001b[0;32m     43\u001b[0m options \u001b[38;5;241m=\u001b[39m options \u001b[38;5;28;01mif\u001b[39;00m options \u001b[38;5;28;01melse\u001b[39;00m Options()\n\u001b[1;32m---> 45\u001b[0m \u001b[38;5;28;43msuper\u001b[39;49m\u001b[43m(\u001b[49m\u001b[43m)\u001b[49m\u001b[38;5;241;43m.\u001b[39;49m\u001b[38;5;21;43m__init__\u001b[39;49m\u001b[43m(\u001b[49m\n\u001b[0;32m     46\u001b[0m \u001b[43m    \u001b[49m\u001b[43mbrowser_name\u001b[49m\u001b[38;5;241;43m=\u001b[39;49m\u001b[43mDesiredCapabilities\u001b[49m\u001b[38;5;241;43m.\u001b[39;49m\u001b[43mCHROME\u001b[49m\u001b[43m[\u001b[49m\u001b[38;5;124;43m\"\u001b[39;49m\u001b[38;5;124;43mbrowserName\u001b[39;49m\u001b[38;5;124;43m\"\u001b[39;49m\u001b[43m]\u001b[49m\u001b[43m,\u001b[49m\n\u001b[0;32m     47\u001b[0m \u001b[43m    \u001b[49m\u001b[43mvendor_prefix\u001b[49m\u001b[38;5;241;43m=\u001b[39;49m\u001b[38;5;124;43m\"\u001b[39;49m\u001b[38;5;124;43mgoog\u001b[39;49m\u001b[38;5;124;43m\"\u001b[39;49m\u001b[43m,\u001b[49m\n\u001b[0;32m     48\u001b[0m \u001b[43m    \u001b[49m\u001b[43moptions\u001b[49m\u001b[38;5;241;43m=\u001b[39;49m\u001b[43moptions\u001b[49m\u001b[43m,\u001b[49m\n\u001b[0;32m     49\u001b[0m \u001b[43m    \u001b[49m\u001b[43mservice\u001b[49m\u001b[38;5;241;43m=\u001b[39;49m\u001b[43mservice\u001b[49m\u001b[43m,\u001b[49m\n\u001b[0;32m     50\u001b[0m \u001b[43m    \u001b[49m\u001b[43mkeep_alive\u001b[49m\u001b[38;5;241;43m=\u001b[39;49m\u001b[43mkeep_alive\u001b[49m\u001b[43m,\u001b[49m\n\u001b[0;32m     51\u001b[0m \u001b[43m\u001b[49m\u001b[43m)\u001b[49m\n",
      "File \u001b[1;32mc:\\Users\\TOM\\AppData\\Local\\Programs\\Python\\Python310\\lib\\site-packages\\selenium\\webdriver\\chromium\\webdriver.py:66\u001b[0m, in \u001b[0;36mChromiumDriver.__init__\u001b[1;34m(self, browser_name, vendor_prefix, options, service, keep_alive)\u001b[0m\n\u001b[0;32m     57\u001b[0m executor \u001b[38;5;241m=\u001b[39m ChromiumRemoteConnection(\n\u001b[0;32m     58\u001b[0m     remote_server_addr\u001b[38;5;241m=\u001b[39m\u001b[38;5;28mself\u001b[39m\u001b[38;5;241m.\u001b[39mservice\u001b[38;5;241m.\u001b[39mservice_url,\n\u001b[0;32m     59\u001b[0m     browser_name\u001b[38;5;241m=\u001b[39mbrowser_name,\n\u001b[1;32m   (...)\u001b[0m\n\u001b[0;32m     62\u001b[0m     ignore_proxy\u001b[38;5;241m=\u001b[39moptions\u001b[38;5;241m.\u001b[39m_ignore_local_proxy,\n\u001b[0;32m     63\u001b[0m )\n\u001b[0;32m     65\u001b[0m \u001b[38;5;28;01mtry\u001b[39;00m:\n\u001b[1;32m---> 66\u001b[0m     \u001b[38;5;28;43msuper\u001b[39;49m\u001b[43m(\u001b[49m\u001b[43m)\u001b[49m\u001b[38;5;241;43m.\u001b[39;49m\u001b[38;5;21;43m__init__\u001b[39;49m\u001b[43m(\u001b[49m\u001b[43mcommand_executor\u001b[49m\u001b[38;5;241;43m=\u001b[39;49m\u001b[43mexecutor\u001b[49m\u001b[43m,\u001b[49m\u001b[43m \u001b[49m\u001b[43moptions\u001b[49m\u001b[38;5;241;43m=\u001b[39;49m\u001b[43moptions\u001b[49m\u001b[43m)\u001b[49m\n\u001b[0;32m     67\u001b[0m \u001b[38;5;28;01mexcept\u001b[39;00m \u001b[38;5;167;01mException\u001b[39;00m:\n\u001b[0;32m     68\u001b[0m     \u001b[38;5;28mself\u001b[39m\u001b[38;5;241m.\u001b[39mquit()\n",
      "File \u001b[1;32mc:\\Users\\TOM\\AppData\\Local\\Programs\\Python\\Python310\\lib\\site-packages\\selenium\\webdriver\\remote\\webdriver.py:250\u001b[0m, in \u001b[0;36mWebDriver.__init__\u001b[1;34m(self, command_executor, keep_alive, file_detector, options, locator_converter, web_element_cls, client_config)\u001b[0m\n\u001b[0;32m    248\u001b[0m \u001b[38;5;28mself\u001b[39m\u001b[38;5;241m.\u001b[39m_authenticator_id \u001b[38;5;241m=\u001b[39m \u001b[38;5;28;01mNone\u001b[39;00m\n\u001b[0;32m    249\u001b[0m \u001b[38;5;28mself\u001b[39m\u001b[38;5;241m.\u001b[39mstart_client()\n\u001b[1;32m--> 250\u001b[0m \u001b[38;5;28;43mself\u001b[39;49m\u001b[38;5;241;43m.\u001b[39;49m\u001b[43mstart_session\u001b[49m\u001b[43m(\u001b[49m\u001b[43mcapabilities\u001b[49m\u001b[43m)\u001b[49m\n\u001b[0;32m    251\u001b[0m \u001b[38;5;28mself\u001b[39m\u001b[38;5;241m.\u001b[39m_fedcm \u001b[38;5;241m=\u001b[39m FedCM(\u001b[38;5;28mself\u001b[39m)\n\u001b[0;32m    253\u001b[0m \u001b[38;5;28mself\u001b[39m\u001b[38;5;241m.\u001b[39m_websocket_connection \u001b[38;5;241m=\u001b[39m \u001b[38;5;28;01mNone\u001b[39;00m\n",
      "File \u001b[1;32mc:\\Users\\TOM\\AppData\\Local\\Programs\\Python\\Python310\\lib\\site-packages\\undetected_chromedriver\\__init__.py:724\u001b[0m, in \u001b[0;36mChrome.start_session\u001b[1;34m(self, capabilities, browser_profile)\u001b[0m\n\u001b[0;32m    722\u001b[0m \u001b[38;5;28;01mif\u001b[39;00m \u001b[38;5;129;01mnot\u001b[39;00m capabilities:\n\u001b[0;32m    723\u001b[0m     capabilities \u001b[38;5;241m=\u001b[39m \u001b[38;5;28mself\u001b[39m\u001b[38;5;241m.\u001b[39moptions\u001b[38;5;241m.\u001b[39mto_capabilities()\n\u001b[1;32m--> 724\u001b[0m \u001b[38;5;28;43msuper\u001b[39;49m\u001b[43m(\u001b[49m\u001b[43mselenium\u001b[49m\u001b[38;5;241;43m.\u001b[39;49m\u001b[43mwebdriver\u001b[49m\u001b[38;5;241;43m.\u001b[39;49m\u001b[43mchrome\u001b[49m\u001b[38;5;241;43m.\u001b[39;49m\u001b[43mwebdriver\u001b[49m\u001b[38;5;241;43m.\u001b[39;49m\u001b[43mWebDriver\u001b[49m\u001b[43m,\u001b[49m\u001b[43m \u001b[49m\u001b[38;5;28;43mself\u001b[39;49m\u001b[43m)\u001b[49m\u001b[38;5;241;43m.\u001b[39;49m\u001b[43mstart_session\u001b[49m\u001b[43m(\u001b[49m\n\u001b[0;32m    725\u001b[0m \u001b[43m    \u001b[49m\u001b[43mcapabilities\u001b[49m\n\u001b[0;32m    726\u001b[0m \u001b[43m\u001b[49m\u001b[43m)\u001b[49m\n",
      "File \u001b[1;32mc:\\Users\\TOM\\AppData\\Local\\Programs\\Python\\Python310\\lib\\site-packages\\selenium\\webdriver\\remote\\webdriver.py:342\u001b[0m, in \u001b[0;36mWebDriver.start_session\u001b[1;34m(self, capabilities)\u001b[0m\n\u001b[0;32m    333\u001b[0m \u001b[38;5;250m\u001b[39m\u001b[38;5;124;03m\"\"\"Creates a new session with the desired capabilities.\u001b[39;00m\n\u001b[0;32m    334\u001b[0m \n\u001b[0;32m    335\u001b[0m \u001b[38;5;124;03mParameters:\u001b[39;00m\n\u001b[1;32m   (...)\u001b[0m\n\u001b[0;32m    338\u001b[0m \u001b[38;5;124;03m    - A capabilities dict to start the session with.\u001b[39;00m\n\u001b[0;32m    339\u001b[0m \u001b[38;5;124;03m\"\"\"\u001b[39;00m\n\u001b[0;32m    341\u001b[0m caps \u001b[38;5;241m=\u001b[39m _create_caps(capabilities)\n\u001b[1;32m--> 342\u001b[0m response \u001b[38;5;241m=\u001b[39m \u001b[38;5;28;43mself\u001b[39;49m\u001b[38;5;241;43m.\u001b[39;49m\u001b[43mexecute\u001b[49m\u001b[43m(\u001b[49m\u001b[43mCommand\u001b[49m\u001b[38;5;241;43m.\u001b[39;49m\u001b[43mNEW_SESSION\u001b[49m\u001b[43m,\u001b[49m\u001b[43m \u001b[49m\u001b[43mcaps\u001b[49m\u001b[43m)\u001b[49m[\u001b[38;5;124m\"\u001b[39m\u001b[38;5;124mvalue\u001b[39m\u001b[38;5;124m\"\u001b[39m]\n\u001b[0;32m    343\u001b[0m \u001b[38;5;28mself\u001b[39m\u001b[38;5;241m.\u001b[39msession_id \u001b[38;5;241m=\u001b[39m response\u001b[38;5;241m.\u001b[39mget(\u001b[38;5;124m\"\u001b[39m\u001b[38;5;124msessionId\u001b[39m\u001b[38;5;124m\"\u001b[39m)\n\u001b[0;32m    344\u001b[0m \u001b[38;5;28mself\u001b[39m\u001b[38;5;241m.\u001b[39mcaps \u001b[38;5;241m=\u001b[39m response\u001b[38;5;241m.\u001b[39mget(\u001b[38;5;124m\"\u001b[39m\u001b[38;5;124mcapabilities\u001b[39m\u001b[38;5;124m\"\u001b[39m)\n",
      "File \u001b[1;32mc:\\Users\\TOM\\AppData\\Local\\Programs\\Python\\Python310\\lib\\site-packages\\selenium\\webdriver\\remote\\webdriver.py:429\u001b[0m, in \u001b[0;36mWebDriver.execute\u001b[1;34m(self, driver_command, params)\u001b[0m\n\u001b[0;32m    427\u001b[0m response \u001b[38;5;241m=\u001b[39m \u001b[38;5;28mself\u001b[39m\u001b[38;5;241m.\u001b[39mcommand_executor\u001b[38;5;241m.\u001b[39mexecute(driver_command, params)\n\u001b[0;32m    428\u001b[0m \u001b[38;5;28;01mif\u001b[39;00m response:\n\u001b[1;32m--> 429\u001b[0m     \u001b[38;5;28;43mself\u001b[39;49m\u001b[38;5;241;43m.\u001b[39;49m\u001b[43merror_handler\u001b[49m\u001b[38;5;241;43m.\u001b[39;49m\u001b[43mcheck_response\u001b[49m\u001b[43m(\u001b[49m\u001b[43mresponse\u001b[49m\u001b[43m)\u001b[49m\n\u001b[0;32m    430\u001b[0m     response[\u001b[38;5;124m\"\u001b[39m\u001b[38;5;124mvalue\u001b[39m\u001b[38;5;124m\"\u001b[39m] \u001b[38;5;241m=\u001b[39m \u001b[38;5;28mself\u001b[39m\u001b[38;5;241m.\u001b[39m_unwrap_value(response\u001b[38;5;241m.\u001b[39mget(\u001b[38;5;124m\"\u001b[39m\u001b[38;5;124mvalue\u001b[39m\u001b[38;5;124m\"\u001b[39m, \u001b[38;5;28;01mNone\u001b[39;00m))\n\u001b[0;32m    431\u001b[0m     \u001b[38;5;28;01mreturn\u001b[39;00m response\n",
      "File \u001b[1;32mc:\\Users\\TOM\\AppData\\Local\\Programs\\Python\\Python310\\lib\\site-packages\\selenium\\webdriver\\remote\\errorhandler.py:232\u001b[0m, in \u001b[0;36mErrorHandler.check_response\u001b[1;34m(self, response)\u001b[0m\n\u001b[0;32m    230\u001b[0m         alert_text \u001b[38;5;241m=\u001b[39m value[\u001b[38;5;124m\"\u001b[39m\u001b[38;5;124malert\u001b[39m\u001b[38;5;124m\"\u001b[39m]\u001b[38;5;241m.\u001b[39mget(\u001b[38;5;124m\"\u001b[39m\u001b[38;5;124mtext\u001b[39m\u001b[38;5;124m\"\u001b[39m)\n\u001b[0;32m    231\u001b[0m     \u001b[38;5;28;01mraise\u001b[39;00m exception_class(message, screen, stacktrace, alert_text)  \u001b[38;5;66;03m# type: ignore[call-arg]  # mypy is not smart enough here\u001b[39;00m\n\u001b[1;32m--> 232\u001b[0m \u001b[38;5;28;01mraise\u001b[39;00m exception_class(message, screen, stacktrace)\n",
      "\u001b[1;31mSessionNotCreatedException\u001b[0m: Message: session not created: cannot connect to chrome at 127.0.0.1:61272\nfrom chrome not reachable\nStacktrace:\n\tGetHandleVerifier [0x0x11ef173+62931]\n\tGetHandleVerifier [0x0x11ef1b4+62996]\n\t(No symbol) [0x0x1000ece]\n\t(No symbol) [0x0xff4c3a]\n\t(No symbol) [0x0x1039be6]\n\t(No symbol) [0x0x103043f]\n\t(No symbol) [0x0x1030276]\n\t(No symbol) [0x0x107a37a]\n\t(No symbol) [0x0x1079c1a]\n\t(No symbol) [0x0x106e2a6]\n\t(No symbol) [0x0x103d5f0]\n\t(No symbol) [0x0x103e464]\n\tGetHandleVerifier [0x0x1443463+2504899]\n\tGetHandleVerifier [0x0x143e892+2485490]\n\tGetHandleVerifier [0x0x121590a+220522]\n\tGetHandleVerifier [0x0x1206388+157672]\n\tGetHandleVerifier [0x0x120cb6d+184269]\n\tGetHandleVerifier [0x0x11f7158+95672]\n\tGetHandleVerifier [0x0x11f7300+96096]\n\tGetHandleVerifier [0x0x11e21aa+9738]\n\tBaseThreadInitThunk [0x0x75855d49+25]\n\tRtlInitializeExceptionChain [0x0x77bbd03b+107]\n\tRtlGetAppContainerNamedObjectPath [0x0x77bbcfc1+561]\n"
     ]
    }
   ],
   "source": [
    "import undetected_chromedriver as uc\n",
    "from webdriver_manager.chrome import ChromeDriverManager\n",
    "from selenium import webdriver\n",
    "from selenium.webdriver.common.by import By\n",
    "from selenium.webdriver.common.action_chains import ActionChains\n",
    "from selenium.webdriver.support.ui import WebDriverWait\n",
    "from selenium.webdriver.support import expected_conditions as EC\n",
    "import time\n",
    "from selenium_stealth import stealth\n",
    "\n",
    "options = uc.ChromeOptions()\n",
    "options.add_argument(\"user-data-dir=selenium\")\n",
    "options.headless = False\n",
    "\n",
    "driver = uc.Chrome(options=options)\n",
    "\n",
    "wait = WebDriverWait(driver, 30)\n",
    "driver.get(\"https://visa.vfsglobal.com/tur/tr/fra/login\")\n",
    "time.sleep(1)\n",
    "try:\n",
    "    cerez = wait.until(EC.presence_of_element_located((By.ID, \"onetrust-reject-all-handler\")))\n",
    "    cerez.click()\n",
    "except Exception as e:\n",
    "    pass\n",
    "\n",
    "username = wait.until(EC.presence_of_element_located((By.ID, \"email\")))\n",
    "username.send_keys(\"yunusemretom@gmail.com\")\n",
    "password = wait.until(EC.presence_of_element_located((By.ID, \"password\")))\n",
    "password.send_keys(\"!$!gj2Ch94BDT7A\")\n",
    "\n",
    "time.sleep(2)\n",
    "try:\n",
    "    driver.find_element(\"input\", {\"type\":\"checkbox\"}).click()\n",
    "except Exception as e:\n",
    "    pass\n",
    "submit_button = wait.until(EC.element_to_be_clickable((By.XPATH, \"//*[@class='mdc-button__label' and contains(text(), 'Oturum Aç')]\")))\n",
    "submit_button.click()\n",
    "\n",
    "driver.find_element(\"class name\", \"mdc-button__label\").click()\n",
    "rezervasyon = wait.until(EC.presence_of_element_located((By.CLASS_NAME, \"mdc-button__label\")))\n",
    "\n"
   ]
  },
  {
   "cell_type": "code",
   "execution_count": 13,
   "id": "54ce5fd3",
   "metadata": {},
   "outputs": [],
   "source": [
    "driver.find_element(\"class name\", \"mdc-button__label\").click()"
   ]
  },
  {
   "cell_type": "code",
   "execution_count": 5,
   "id": "6a5ccb49",
   "metadata": {},
   "outputs": [
    {
     "name": "stdout",
     "output_type": "stream",
     "text": [
      "Looking in indexes: https://pypi.org/simple, https://pypi.ngc.nvidia.com\n",
      "Collecting selenium-stealth\n",
      "  Downloading selenium_stealth-1.0.6-py3-none-any.whl.metadata (6.4 kB)\n",
      "Requirement already satisfied: selenium in c:\\users\\tom\\appdata\\local\\programs\\python\\python310\\lib\\site-packages (from selenium-stealth) (4.29.0)\n",
      "Requirement already satisfied: urllib3<3,>=1.26 in c:\\users\\tom\\appdata\\local\\programs\\python\\python310\\lib\\site-packages (from urllib3[socks]<3,>=1.26->selenium->selenium-stealth) (2.2.3)\n",
      "Requirement already satisfied: trio~=0.17 in c:\\users\\tom\\appdata\\local\\programs\\python\\python310\\lib\\site-packages (from selenium->selenium-stealth) (0.29.0)\n",
      "Requirement already satisfied: trio-websocket~=0.9 in c:\\users\\tom\\appdata\\local\\programs\\python\\python310\\lib\\site-packages (from selenium->selenium-stealth) (0.12.2)\n",
      "Requirement already satisfied: certifi>=2021.10.8 in c:\\users\\tom\\appdata\\local\\programs\\python\\python310\\lib\\site-packages (from selenium->selenium-stealth) (2024.8.30)\n",
      "Requirement already satisfied: typing_extensions~=4.9 in c:\\users\\tom\\appdata\\local\\programs\\python\\python310\\lib\\site-packages (from selenium->selenium-stealth) (4.12.2)\n",
      "Requirement already satisfied: websocket-client~=1.8 in c:\\users\\tom\\appdata\\local\\programs\\python\\python310\\lib\\site-packages (from selenium->selenium-stealth) (1.8.0)\n",
      "Requirement already satisfied: attrs>=23.2.0 in c:\\users\\tom\\appdata\\local\\programs\\python\\python310\\lib\\site-packages (from trio~=0.17->selenium->selenium-stealth) (24.2.0)\n",
      "Requirement already satisfied: sortedcontainers in c:\\users\\tom\\appdata\\local\\programs\\python\\python310\\lib\\site-packages (from trio~=0.17->selenium->selenium-stealth) (2.4.0)\n",
      "Requirement already satisfied: idna in c:\\users\\tom\\appdata\\local\\programs\\python\\python310\\lib\\site-packages (from trio~=0.17->selenium->selenium-stealth) (3.10)\n",
      "Requirement already satisfied: outcome in c:\\users\\tom\\appdata\\local\\programs\\python\\python310\\lib\\site-packages (from trio~=0.17->selenium->selenium-stealth) (1.3.0.post0)\n",
      "Requirement already satisfied: sniffio>=1.3.0 in c:\\users\\tom\\appdata\\local\\programs\\python\\python310\\lib\\site-packages (from trio~=0.17->selenium->selenium-stealth) (1.3.1)\n",
      "Requirement already satisfied: cffi>=1.14 in c:\\users\\tom\\appdata\\local\\programs\\python\\python310\\lib\\site-packages (from trio~=0.17->selenium->selenium-stealth) (1.17.1)\n",
      "Requirement already satisfied: exceptiongroup in c:\\users\\tom\\appdata\\local\\programs\\python\\python310\\lib\\site-packages (from trio~=0.17->selenium->selenium-stealth) (1.2.2)\n",
      "Requirement already satisfied: wsproto>=0.14 in c:\\users\\tom\\appdata\\local\\programs\\python\\python310\\lib\\site-packages (from trio-websocket~=0.9->selenium->selenium-stealth) (1.2.0)\n",
      "Requirement already satisfied: pysocks!=1.5.7,<2.0,>=1.5.6 in c:\\users\\tom\\appdata\\local\\programs\\python\\python310\\lib\\site-packages (from urllib3[socks]<3,>=1.26->selenium->selenium-stealth) (1.7.1)\n",
      "Requirement already satisfied: pycparser in c:\\users\\tom\\appdata\\local\\programs\\python\\python310\\lib\\site-packages (from cffi>=1.14->trio~=0.17->selenium->selenium-stealth) (2.22)\n",
      "Requirement already satisfied: h11<1,>=0.9.0 in c:\\users\\tom\\appdata\\local\\programs\\python\\python310\\lib\\site-packages (from wsproto>=0.14->trio-websocket~=0.9->selenium->selenium-stealth) (0.16.0)\n",
      "Downloading selenium_stealth-1.0.6-py3-none-any.whl (32 kB)\n",
      "Installing collected packages: selenium-stealth\n",
      "Successfully installed selenium-stealth-1.0.6\n"
     ]
    },
    {
     "name": "stderr",
     "output_type": "stream",
     "text": [
      "\n",
      "[notice] A new release of pip is available: 25.1 -> 25.1.1\n",
      "[notice] To update, run: python.exe -m pip install --upgrade pip\n"
     ]
    }
   ],
   "source": [
    "!pip install selenium-stealth"
   ]
  },
  {
   "cell_type": "code",
   "execution_count": null,
   "id": "a7b85e65",
   "metadata": {},
   "outputs": [],
   "source": [
    "driver.find_element(\"input\", {\"type\":\"checkbox\"}).click()"
   ]
  },
  {
   "cell_type": "code",
   "execution_count": 14,
   "id": "868ee3f8",
   "metadata": {},
   "outputs": [],
   "source": [
    "center_select = wait.until(EC.element_to_be_clickable((By.ID, \"mat-select-0\")))\n",
    "center_select.click()\n",
    "\n",
    "# 2. Açılan seçeneklerden bir tanesini seç\n",
    "# Örnek: İstanbul seçeneğini seçiyoruz\n",
    "istanbul_option = wait.until(EC.element_to_be_clickable(\n",
    "    (By.XPATH, \"//*[@id='IBY']\")\n",
    "))\n",
    "istanbul_option.click()"
   ]
  },
  {
   "cell_type": "code",
   "execution_count": 17,
   "id": "270b7a40",
   "metadata": {},
   "outputs": [],
   "source": [
    "center_select = wait.until(EC.element_to_be_clickable((By.ID, \"mat-select-4\")))\n",
    "center_select.click()\n",
    "\n",
    "# 2. Açılan seçeneklerden bir tanesini seç\n",
    "# Örnek: İstanbul seçeneğini seçiyoruz\n",
    "istanbul_option = wait.until(EC.element_to_be_clickable(\n",
    "    (By.XPATH, \"//*[@id='SSV']\")\n",
    "))\n",
    "istanbul_option.click()"
   ]
  },
  {
   "cell_type": "code",
   "execution_count": 18,
   "id": "eb5c0e71",
   "metadata": {},
   "outputs": [],
   "source": [
    "center_select = wait.until(EC.element_to_be_clickable((By.ID, \"mat-select-2\")))\n",
    "center_select.click()\n",
    "\n",
    "# 2. Açılan seçeneklerden bir tanesini seç\n",
    "# Örnek: İstanbul seçeneğini seçiyoruz\n",
    "istanbul_option = wait.until(EC.element_to_be_clickable(\n",
    "    (By.XPATH, \"//*[@id='SHORSTD']\")\n",
    "))\n",
    "istanbul_option.click()"
   ]
  },
  {
   "cell_type": "code",
   "execution_count": null,
   "id": "7435bc32",
   "metadata": {},
   "outputs": [],
   "source": [
    "mesaj = wait.until(EC.element_to_be_clickable((By.CLASS_NAME, \"alert\"))).text\n",
    "if \"Üzgünüz\" in mesaj:\n",
    "    print(\"Randevu bulunamadı.\")\n",
    "else:\n",
    "    print(\"Randevu bulundu:\", mesaj)"
   ]
  },
  {
   "cell_type": "code",
   "execution_count": null,
   "id": "13657d9a",
   "metadata": {},
   "outputs": [],
   "source": [
    "import time\n"
   ]
  },
  {
   "cell_type": "code",
   "execution_count": null,
   "id": "25b635e6",
   "metadata": {},
   "outputs": [],
   "source": []
  },
  {
   "cell_type": "code",
   "execution_count": 32,
   "id": "54425657",
   "metadata": {},
   "outputs": [],
   "source": [
    "wait.until(EC.element_to_be_clickable((By.XPATH, \"//*[@class='mdc-button__label' and contains(text(), 'Kaydet')]\"))).click()"
   ]
  },
  {
   "cell_type": "code",
   "execution_count": null,
   "id": "1fc99d58",
   "metadata": {},
   "outputs": [],
   "source": []
  },
  {
   "cell_type": "code",
   "execution_count": 87,
   "id": "2fe05308",
   "metadata": {},
   "outputs": [
    {
     "ename": "TimeoutException",
     "evalue": "Message: \nStacktrace:\n\tGetHandleVerifier [0x0xecf173+62931]\n\tGetHandleVerifier [0x0xecf1b4+62996]\n\t(No symbol) [0x0xce1053]\n\t(No symbol) [0x0xd297ae]\n\t(No symbol) [0x0xd29b4b]\n\t(No symbol) [0x0xd721f2]\n\t(No symbol) [0x0xd4e4f4]\n\t(No symbol) [0x0xd6f9e3]\n\t(No symbol) [0x0xd4e2a6]\n\t(No symbol) [0x0xd1d5f0]\n\t(No symbol) [0x0xd1e464]\n\tGetHandleVerifier [0x0x1123463+2504899]\n\tGetHandleVerifier [0x0x111e892+2485490]\n\tGetHandleVerifier [0x0xef590a+220522]\n\tGetHandleVerifier [0x0xee6388+157672]\n\tGetHandleVerifier [0x0xeecb6d+184269]\n\tGetHandleVerifier [0x0xed7158+95672]\n\tGetHandleVerifier [0x0xed7300+96096]\n\tGetHandleVerifier [0x0xec21aa+9738]\n\tBaseThreadInitThunk [0x0x75845d49+25]\n\tRtlInitializeExceptionChain [0x0x770ed03b+107]\n\tRtlGetAppContainerNamedObjectPath [0x0x770ecfc1+561]\n",
     "output_type": "error",
     "traceback": [
      "\u001b[1;31m---------------------------------------------------------------------------\u001b[0m",
      "\u001b[1;31mTimeoutException\u001b[0m                          Traceback (most recent call last)",
      "Cell \u001b[1;32mIn[87], line 1\u001b[0m\n\u001b[1;32m----> 1\u001b[0m \u001b[43mwait\u001b[49m\u001b[38;5;241;43m.\u001b[39;49m\u001b[43muntil\u001b[49m\u001b[43m(\u001b[49m\u001b[43mEC\u001b[49m\u001b[38;5;241;43m.\u001b[39;49m\u001b[43melement_to_be_clickable\u001b[49m\u001b[43m(\u001b[49m\u001b[43m(\u001b[49m\u001b[43mBy\u001b[49m\u001b[38;5;241;43m.\u001b[39;49m\u001b[43mCLASS_NAME\u001b[49m\u001b[43m,\u001b[49m\u001b[43m \u001b[49m\u001b[38;5;124;43m\"\u001b[39;49m\u001b[38;5;124;43mdate-availiable\u001b[39;49m\u001b[38;5;124;43m\"\u001b[39;49m\u001b[43m)\u001b[49m\u001b[43m)\u001b[49m\u001b[43m)\u001b[49m\u001b[38;5;241m.\u001b[39mclick()\n",
      "File \u001b[1;32mc:\\Users\\TOM\\AppData\\Local\\Programs\\Python\\Python310\\lib\\site-packages\\selenium\\webdriver\\support\\wait.py:146\u001b[0m, in \u001b[0;36mWebDriverWait.until\u001b[1;34m(self, method, message)\u001b[0m\n\u001b[0;32m    144\u001b[0m         \u001b[38;5;28;01mbreak\u001b[39;00m\n\u001b[0;32m    145\u001b[0m     time\u001b[38;5;241m.\u001b[39msleep(\u001b[38;5;28mself\u001b[39m\u001b[38;5;241m.\u001b[39m_poll)\n\u001b[1;32m--> 146\u001b[0m \u001b[38;5;28;01mraise\u001b[39;00m TimeoutException(message, screen, stacktrace)\n",
      "\u001b[1;31mTimeoutException\u001b[0m: Message: \nStacktrace:\n\tGetHandleVerifier [0x0xecf173+62931]\n\tGetHandleVerifier [0x0xecf1b4+62996]\n\t(No symbol) [0x0xce1053]\n\t(No symbol) [0x0xd297ae]\n\t(No symbol) [0x0xd29b4b]\n\t(No symbol) [0x0xd721f2]\n\t(No symbol) [0x0xd4e4f4]\n\t(No symbol) [0x0xd6f9e3]\n\t(No symbol) [0x0xd4e2a6]\n\t(No symbol) [0x0xd1d5f0]\n\t(No symbol) [0x0xd1e464]\n\tGetHandleVerifier [0x0x1123463+2504899]\n\tGetHandleVerifier [0x0x111e892+2485490]\n\tGetHandleVerifier [0x0xef590a+220522]\n\tGetHandleVerifier [0x0xee6388+157672]\n\tGetHandleVerifier [0x0xeecb6d+184269]\n\tGetHandleVerifier [0x0xed7158+95672]\n\tGetHandleVerifier [0x0xed7300+96096]\n\tGetHandleVerifier [0x0xec21aa+9738]\n\tBaseThreadInitThunk [0x0x75845d49+25]\n\tRtlInitializeExceptionChain [0x0x770ed03b+107]\n\tRtlGetAppContainerNamedObjectPath [0x0x770ecfc1+561]\n"
     ]
    }
   ],
   "source": [
    "wait.until(EC.element_to_be_clickable((By.CLASS_NAME, \"date-availiable\"))).click()"
   ]
  },
  {
   "cell_type": "code",
   "execution_count": 3,
   "id": "21ba9b9f",
   "metadata": {},
   "outputs": [
    {
     "name": "stdout",
     "output_type": "stream",
     "text": [
      "Turnstile elementi bulunamadı veya tıklanamadı: Message: invalid session id\n",
      "Stacktrace:\n",
      "\tGetHandleVerifier [0x0x11ef173+62931]\n",
      "\tGetHandleVerifier [0x0x11ef1b4+62996]\n",
      "\t(No symbol) [0x0x1000ece]\n",
      "\t(No symbol) [0x0x103c8b8]\n",
      "\t(No symbol) [0x0x106e366]\n",
      "\t(No symbol) [0x0x1069e12]\n",
      "\t(No symbol) [0x0x10693a6]\n",
      "\t(No symbol) [0x0xfd3a05]\n",
      "\t(No symbol) [0x0xfd3f5e]\n",
      "\t(No symbol) [0x0xfd43ed]\n",
      "\tGetHandleVerifier [0x0x1443463+2504899]\n",
      "\tGetHandleVerifier [0x0x143e892+2485490]\n",
      "\tGetHandleVerifier [0x0x121590a+220522]\n",
      "\tGetHandleVerifier [0x0x1206388+157672]\n",
      "\tGetHandleVerifier [0x0x120cb6d+184269]\n",
      "\t(No symbol) [0x0xfd36d0]\n",
      "\t(No symbol) [0x0xfd2edd]\n",
      "\tGetHandleVerifier [0x0x15696ec+3709772]\n",
      "\tBaseThreadInitThunk [0x0x75855d49+25]\n",
      "\tRtlInitializeExceptionChain [0x0x77bbd03b+107]\n",
      "\tRtlGetAppContainerNamedObjectPath [0x0x77bbcfc1+561]\n",
      "\n"
     ]
    }
   ],
   "source": [
    "import undetected_chromedriver as uc\n",
    "from webdriver_manager.chrome import ChromeDriverManager\n",
    "from selenium import webdriver\n",
    "from selenium.webdriver.common.by import By\n",
    "from selenium.webdriver.common.action_chains import ActionChains\n",
    "from selenium.webdriver.support.ui import WebDriverWait\n",
    "from selenium.webdriver.support import expected_conditions as EC\n",
    "import time\n",
    "from selenium_stealth import stealth\n",
    "\n",
    "options = uc.ChromeOptions()\n",
    "options.add_argument(\"--user-data-dir=chrome-data\")\n",
    "options.headless = False\n",
    "\n",
    "driver = uc.Chrome(options=options)\n",
    "\n",
    "wait = WebDriverWait(driver, 50)\n",
    "driver.get(\"https://visa.vfsglobal.com/tur/tr/fra/login\")\n",
    "time.sleep(4)\n",
    "# Cloudflare Turnstile elementini bul ve tıkla\n",
    "try:\n",
    "    cerez = wait.until(EC.presence_of_element_located((By.ID, \"onetrust-reject-all-handler\")))\n",
    "    time.sleep(1)\n",
    "    cerez.click()\n",
    "except Exception as e:\n",
    "    pass\n",
    "\n",
    "try:\n",
    "    turnstile = wait.until(EC.presence_of_element_located((By.CSS_SELECTOR, \"div[appcloudflarerecaptcha]\")))\n",
    "    actions = ActionChains(driver)\n",
    "    actions.move_to_element(turnstile).click().perform()\n",
    "    time.sleep(5)  # Turnstile'ın yüklenmesi için bekle\n",
    "except Exception as e:\n",
    "    print(\"Turnstile elementi bulunamadı veya tıklanamadı:\", str(e))"
   ]
  },
  {
   "cell_type": "code",
   "execution_count": 4,
   "id": "17e6ef5c",
   "metadata": {},
   "outputs": [],
   "source": [
    "import undetected_chromedriver as uc\n",
    "from webdriver_manager.chrome import ChromeDriverManager\n",
    "from selenium import webdriver\n",
    "from selenium.webdriver.common.by import By\n",
    "from selenium.webdriver.common.action_chains import ActionChains\n",
    "from selenium.webdriver.support.ui import WebDriverWait\n",
    "from selenium.webdriver.support import expected_conditions as EC\n",
    "import time\n",
    "from selenium_stealth import stealth\n",
    "\n",
    "options = uc.ChromeOptions()\n",
    "options.add_argument(\"--user-data-dir=chrome-data\")\n",
    "options.headless = False\n",
    "\n",
    "driver = uc.Chrome(options=options)\n",
    "\n",
    "wait = WebDriverWait(driver, 50)\n",
    "driver.get(\"https://visa.vfsglobal.com/tur/tr/fra/login\")"
   ]
  },
  {
   "cell_type": "code",
   "execution_count": null,
   "id": "5f889e83",
   "metadata": {},
   "outputs": [],
   "source": []
  },
  {
   "cell_type": "code",
   "execution_count": null,
   "id": "5003920d",
   "metadata": {},
   "outputs": [],
   "source": []
  },
  {
   "cell_type": "code",
   "execution_count": null,
   "id": "dfb8a262",
   "metadata": {},
   "outputs": [],
   "source": []
  },
  {
   "cell_type": "code",
   "execution_count": null,
   "id": "1107c683",
   "metadata": {},
   "outputs": [],
   "source": []
  },
  {
   "cell_type": "code",
   "execution_count": null,
   "id": "fe4f0b8d",
   "metadata": {},
   "outputs": [],
   "source": []
  },
  {
   "cell_type": "code",
   "execution_count": 1,
   "id": "1ed54e6b",
   "metadata": {},
   "outputs": [
    {
     "name": "stdout",
     "output_type": "stream",
     "text": [
      "Turnstile elementi bulunuyor...\n",
      "768 491\n",
      "Kullanıcı adı ve şifre girildi.\n"
     ]
    }
   ],
   "source": [
    "import undetected_chromedriver as uc\n",
    "from webdriver_manager.chrome import ChromeDriverManager\n",
    "from selenium import webdriver\n",
    "from selenium.webdriver.common.by import By\n",
    "from selenium.webdriver.common.action_chains import ActionChains\n",
    "from selenium.webdriver.support.ui import WebDriverWait\n",
    "from selenium.webdriver.support import expected_conditions as EC\n",
    "import time\n",
    "from selenium_stealth import stealth\n",
    "import pyautogui\n",
    "\n",
    "options = uc.ChromeOptions()\n",
    "options.add_argument(\"--user-data-dir=chrome-data\")\n",
    "options.headless = False\n",
    "\n",
    "driver = uc.Chrome(options=options)\n",
    "\n",
    "driver.maximize_window()\n",
    "wait = WebDriverWait(driver, 20)\n",
    "driver.get(\"https://visa.vfsglobal.com/tur/tr/fra/login\")\n",
    "time.sleep(10)\n",
    "# Cloudflare Turnstile elementini bul ve tıkla\n",
    "\n",
    "def get_element_center(element):\n",
    "    location = element.location\n",
    "    size = element.size\n",
    "    x = location['x'] + size['width'] // 2  \n",
    "    y = location['y'] + size['height'] // 2\n",
    "    return x, y\n",
    "\n",
    "def login():\n",
    "    try:\n",
    "        cerez = wait.until(EC.presence_of_element_located((By.ID, \"onetrust-reject-all-handler\")))\n",
    "        time.sleep(2)\n",
    "        cerez.click()\n",
    "        time.sleep(1)\n",
    "    except Exception as e:\n",
    "        pass\n",
    "    try:\n",
    "        print(\"Turnstile elementi bulunuyor...\")\n",
    "        turnstile = wait.until(EC.presence_of_element_located((By.CSS_SELECTOR, \"app-cloudflare-captcha-container\")))\n",
    "        x, y = get_element_center(turnstile)\n",
    "        print(x, y)\n",
    "        pyautogui.click(x, y)\n",
    "    except Exception as e:\n",
    "        print(\"Turnstile elementi bulunamadı veya tıklanamadı:\", str(e))\n",
    "\n",
    "    username = wait.until(EC.presence_of_element_located((By.ID, \"email\")))\n",
    "    email=\"vfsglobal.deck592@simplelogin.com\"\n",
    "    username.send_keys(email)\n",
    "    password = wait.until(EC.presence_of_element_located((By.ID, \"password\")))\n",
    "    password_value=\"!1Qazwsx\"\n",
    "    password.send_keys(password_value)\n",
    "    print(\"Kullanıcı adı ve şifre girildi.\")\n",
    "\n",
    "    time.sleep(2)\n",
    "    try:\n",
    "        driver.find_element(\"input\", {\"type\":\"checkbox\"}).click()\n",
    "    except Exception as e:\n",
    "        pass\n",
    "    time.sleep(1)\n",
    "    \n",
    "    try:\n",
    "        submit_button = wait.until(EC.element_to_be_clickable((By.XPATH, \"//*[@class='mdc-button__label' and contains(text(), 'Oturum Aç')]\")))\n",
    "        submit_button.click()\n",
    "    except:\n",
    "        driver.refresh()\n",
    "        time.sleep(2)\n",
    "        login()\n",
    "\n",
    "login()\n",
    "\n"
   ]
  },
  {
   "cell_type": "code",
   "execution_count": null,
   "id": "7a954d54",
   "metadata": {},
   "outputs": [],
   "source": [
    "sms=input(\"Lütfen SMS kodunu girin: \")\n",
    "wait.until(EC.element_to_be_clickable((By.CSS_SELECTOR, \"input[placeholder='**********']\"))).send_keys(sms)\n",
    "time.sleep(3)\n",
    "\n",
    "wait.until(EC.presence_of_element_located((By.CLASS_NAME, \"mdc-button__label\"))).click()\n",
    "time.sleep(4)"
   ]
  },
  {
   "cell_type": "code",
   "execution_count": 6,
   "id": "1cd2c521",
   "metadata": {},
   "outputs": [],
   "source": [
    "rezervasyon = wait.until(EC.element_to_be_clickable((By.XPATH, \"//*[@class='mdc-button__label' and contains(text(), 'Yeni Rezervasyon Başlat')]\")))\n",
    "rezervasyon.click()\n",
    "time.sleep(2)\n",
    "\n",
    "\n"
   ]
  },
  {
   "cell_type": "code",
   "execution_count": 8,
   "id": "03b9982b",
   "metadata": {},
   "outputs": [
    {
     "name": "stdout",
     "output_type": "stream",
     "text": [
      "Randevu bulunamadı.\n"
     ]
    }
   ],
   "source": [
    "center_select = wait.until(EC.element_to_be_clickable((By.ID, \"mat-select-0\")))\n",
    "center_select.click()\n",
    "\n",
    "# 2. Açılan seçeneklerden bir tanesini seç\n",
    "# Örnek: İstanbul seçeneğini seçiyoruz\n",
    "istanbul_option = wait.until(EC.element_to_be_clickable(\n",
    "    (By.XPATH, \"//*[@id='IBY']\")\n",
    "))\n",
    "istanbul_option.click()\n",
    "time.sleep(5)\n",
    "\n",
    "center_select = wait.until(EC.element_to_be_clickable((By.ID, \"mat-select-4\")))\n",
    "center_select.click()\n",
    "\n",
    "# 2. Açılan seçeneklerden bir tanesini seç\n",
    "# Örnek: İstanbul seçeneğini seçiyoruz\n",
    "istanbul_option = wait.until(EC.element_to_be_clickable(\n",
    "    (By.XPATH, \"//*[@id='SSV']\")\n",
    "))\n",
    "istanbul_option.click()\n",
    "time.sleep(5)\n",
    "\n",
    "center_select = wait.until(EC.element_to_be_clickable((By.ID, \"mat-select-2\")))\n",
    "center_select.click()\n",
    "\n",
    "# 2. Açılan seçeneklerden bir tanesini seç\n",
    "# Örnek: İstanbul seçeneğini seçiyoruz\n",
    "istanbul_option = wait.until(EC.element_to_be_clickable(\n",
    "    (By.XPATH, \"//*[@id='SHORSTD']\")\n",
    "))\n",
    "istanbul_option.click()\n",
    "time.sleep(5)\n",
    "\n",
    "mesaj = wait.until(EC.element_to_be_clickable((By.CLASS_NAME, \"alert\"))).text\n",
    "if \"Üzgünüz\" in mesaj:\n",
    "    print(\"Randevu bulunamadı.\")\n",
    "    \n",
    "else:\n",
    "    print(\"Randevu bulundu:\", mesaj)\n",
    "time.sleep(10)\n",
    "\n"
   ]
  },
  {
   "cell_type": "code",
   "execution_count": null,
   "id": "1dfb7480",
   "metadata": {},
   "outputs": [],
   "source": [
    "wait.until(EC.element_to_be_clickable((By.XPATH, \"//*[@class='mdc-button__label' and contains(text(), 'Devam Et')]\"))).click()\n",
    "\n",
    "time.sleep(2)\n",
    "# Kişisel Bilgiler Formu\n",
    "try:\n",
    "    wait.until(EC.element_to_be_clickable((By.CSS_SELECTOR, \"input[placeholder='Referans numaranızı giriniz']\"))).send_keys(\"FRA1IS20257066125\")\n",
    "except Exception as e:\n",
    "    pass\n",
    "time.sleep(2)\n",
    "wait.until(EC.element_to_be_clickable((By.CSS_SELECTOR, \"input[placeholder='İsminizi Giriniz']\"))).send_keys(\"HALUK\")\n",
    "wait.until(EC.element_to_be_clickable((By.CSS_SELECTOR, \"input[placeholder='Lütfen soy isminizi giriniz.']\"))).send_keys(\"KAYGA\")\n",
    "time.sleep(2)\n",
    "cinsiyet = wait.until(EC.element_to_be_clickable((By.XPATH, \"(//mat-select)[1]\")))\n",
    "cinsiyet.click()\n",
    "time.sleep(2)\n",
    "\n",
    "# 2. Açılan seçeneklerden bir tanesini seç\n",
    "# Örnek: İstanbul seçeneğini seçiyoruz\n",
    "male = wait.until(EC.element_to_be_clickable(\n",
    "    (By.XPATH, \"//*[@class='mdc-list-item__primary-text' and contains(text(), 'Male')]\")\n",
    "))\n",
    "male.click()\n",
    "time.sleep(2)\n",
    "wait.until(EC.element_to_be_clickable((By.ID, \"dateOfBirth\"))).send_keys(\"24041975\")\n",
    "time.sleep(2)\n",
    "uyruk = wait.until(EC.element_to_be_clickable((By.XPATH, \"(//mat-select)[2]\")))\n",
    "uyruk.click()\n",
    "time.sleep(2)\n",
    "# 2. Açılan seçeneklerden bir tanesini seç\n",
    "# Örnek: İstanbul seçeneğini seçiyoruz\n",
    "turk = wait.until(EC.element_to_be_clickable(\n",
    "    (By.XPATH, \"//*[@class='mdc-list-item__primary-text' and contains(text(), 'Türkiye')]\")\n",
    "))\n",
    "turk.click()\n",
    "time.sleep(2)\n",
    "wait.until(EC.element_to_be_clickable((By.CSS_SELECTOR, \"input[placeholder='pasaport Numarası Giriniz']\"))).send_keys(\"U34565375\")\n",
    "wait.until(EC.element_to_be_clickable((By.ID, \"passportExpirtyDate\"))).send_keys(\"24042030\")\n",
    "time.sleep(2)\n",
    "\n",
    "wait.until(EC.element_to_be_clickable((By.XPATH, \"//*[@class='mdc-button__label' and contains(text(), 'Kaydet')]\"))).click()"
   ]
  },
  {
   "cell_type": "code",
   "execution_count": null,
   "id": "1aeec323",
   "metadata": {},
   "outputs": [],
   "source": [
    "wait.until(EC.element_to_be_clickable((By.XPATH, \"//*[@class='mdc-button__label' and contains(text(), 'Devam Et')]\"))).click()"
   ]
  },
  {
   "cell_type": "code",
   "execution_count": 14,
   "id": "61b7c179",
   "metadata": {},
   "outputs": [],
   "source": [
    "wait.until(EC.element_to_be_clickable((By.XPATH, \"//*[@class='mdc-button__label' and contains(text(), ' Tek Seferlik Şifre (OTP) Oluştur ')]\"))).click()"
   ]
  },
  {
   "cell_type": "code",
   "execution_count": 15,
   "id": "fc69ed2d",
   "metadata": {},
   "outputs": [],
   "source": [
    "Otp=input(\"OTP kodunu giriniz: \")\n",
    "wait.until(EC.element_to_be_clickable((By.CSS_SELECTOR, \"input[placeholder='OTP']\"))).send_keys(Otp)"
   ]
  },
  {
   "cell_type": "code",
   "execution_count": 16,
   "id": "4c36c674",
   "metadata": {},
   "outputs": [],
   "source": [
    "wait.until(EC.element_to_be_clickable((By.XPATH, \"//*[@class='mdc-button__label' and contains(text(), ' Doğrula ')]\"))).click()"
   ]
  },
  {
   "cell_type": "code",
   "execution_count": 17,
   "id": "fb3396a3",
   "metadata": {},
   "outputs": [],
   "source": [
    "wait.until(EC.element_to_be_clickable((By.XPATH, \"//*[@class='mdc-button__label' and contains(text(), 'Devam Et')]\"))).click()"
   ]
  },
  {
   "cell_type": "code",
   "execution_count": 20,
   "id": "4e9072ef",
   "metadata": {},
   "outputs": [],
   "source": [
    "wait.until(EC.element_to_be_clickable((By.CLASS_NAME,\"date-availiable\" ))).click()"
   ]
  },
  {
   "cell_type": "code",
   "execution_count": 26,
   "id": "38c3f1bd",
   "metadata": {},
   "outputs": [],
   "source": [
    "from selenium.webdriver.common.by import By\n",
    "\n",
    "# Select by ID\n",
    "radio_element_by_id = wait.until(EC.presence_of_element_located((By.ID, \"STRadio1\")))\n",
    "\n",
    "\n",
    "# Example: clicking the radio button\n",
    "radio_element_by_id.click()\n"
   ]
  },
  {
   "cell_type": "code",
   "execution_count": 28,
   "id": "1802290f",
   "metadata": {},
   "outputs": [],
   "source": [
    "wait.until(EC.element_to_be_clickable((By.XPATH, \"//*[@class='mdc-button__label' and contains(text(), 'Devam Et')]\"))).click()"
   ]
  },
  {
   "cell_type": "code",
   "execution_count": null,
   "id": "447fe58b",
   "metadata": {},
   "outputs": [],
   "source": [
    "wait.until(EC.element_to_be_clickable((By.XPATH, \"//*[@class='mdc-button__label' and contains(text(), 'Devam Et')]\"))).click()"
   ]
  }
 ],
 "metadata": {
  "kernelspec": {
   "display_name": "Python 3",
   "language": "python",
   "name": "python3"
  },
  "language_info": {
   "codemirror_mode": {
    "name": "ipython",
    "version": 3
   },
   "file_extension": ".py",
   "mimetype": "text/x-python",
   "name": "python",
   "nbconvert_exporter": "python",
   "pygments_lexer": "ipython3",
   "version": "3.10.10"
  }
 },
 "nbformat": 4,
 "nbformat_minor": 5
}
